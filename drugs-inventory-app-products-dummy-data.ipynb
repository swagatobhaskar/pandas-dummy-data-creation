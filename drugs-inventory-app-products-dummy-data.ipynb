{
 "cells": [
  {
   "cell_type": "code",
   "execution_count": 1,
   "id": "cd12a5db",
   "metadata": {},
   "outputs": [],
   "source": [
    "import numpy as np\n",
    "import pandas as pd\n",
    "import datetime\n",
    "import string\n",
    "import random"
   ]
  },
  {
   "cell_type": "markdown",
   "id": "869b99cb",
   "metadata": {},
   "source": [
    "#### Columns:\n",
    "    1. id ✓\n",
    "    2. name ✓\n",
    "    3. unit_price ✓\n",
    "    4. mfr_id ✓\n",
    "    5. pack_size_label ✓\n",
    "    6. composition ✓\n",
    "    7. qty_in_stock ✓\n",
    "    8. exp_date ✓\n",
    "    9. mfg_date ✓\n",
    "    10. batch_no ✓"
   ]
  },
  {
   "cell_type": "code",
   "execution_count": 2,
   "id": "c44df3a0",
   "metadata": {},
   "outputs": [
    {
     "data": {
      "text/html": [
       "<div>\n",
       "<style scoped>\n",
       "    .dataframe tbody tr th:only-of-type {\n",
       "        vertical-align: middle;\n",
       "    }\n",
       "\n",
       "    .dataframe tbody tr th {\n",
       "        vertical-align: top;\n",
       "    }\n",
       "\n",
       "    .dataframe thead th {\n",
       "        text-align: right;\n",
       "    }\n",
       "</style>\n",
       "<table border=\"1\" class=\"dataframe\">\n",
       "  <thead>\n",
       "    <tr style=\"text-align: right;\">\n",
       "      <th></th>\n",
       "      <th>name</th>\n",
       "      <th>price</th>\n",
       "      <th>pack_size_label</th>\n",
       "      <th>short_composition1</th>\n",
       "    </tr>\n",
       "  </thead>\n",
       "  <tbody>\n",
       "    <tr>\n",
       "      <th>0</th>\n",
       "      <td>Augmentin 625 Duo Tablet</td>\n",
       "      <td>223.42</td>\n",
       "      <td>strip of 10 tablets</td>\n",
       "      <td>Amoxycillin  (500mg)</td>\n",
       "    </tr>\n",
       "    <tr>\n",
       "      <th>1</th>\n",
       "      <td>Azithral 500 Tablet</td>\n",
       "      <td>132.36</td>\n",
       "      <td>strip of 5 tablets</td>\n",
       "      <td>Azithromycin (500mg)</td>\n",
       "    </tr>\n",
       "    <tr>\n",
       "      <th>2</th>\n",
       "      <td>Ascoril LS Syrup</td>\n",
       "      <td>118.00</td>\n",
       "      <td>bottle of 100 ml Syrup</td>\n",
       "      <td>Ambroxol (30mg/5ml)</td>\n",
       "    </tr>\n",
       "    <tr>\n",
       "      <th>3</th>\n",
       "      <td>Allegra 120mg Tablet</td>\n",
       "      <td>218.81</td>\n",
       "      <td>strip of 10 tablets</td>\n",
       "      <td>Fexofenadine (120mg)</td>\n",
       "    </tr>\n",
       "    <tr>\n",
       "      <th>4</th>\n",
       "      <td>Avil 25 Tablet</td>\n",
       "      <td>10.96</td>\n",
       "      <td>strip of 15 tablets</td>\n",
       "      <td>Pheniramine (25mg)</td>\n",
       "    </tr>\n",
       "    <tr>\n",
       "      <th>...</th>\n",
       "      <td>...</td>\n",
       "      <td>...</td>\n",
       "      <td>...</td>\n",
       "      <td>...</td>\n",
       "    </tr>\n",
       "    <tr>\n",
       "      <th>253968</th>\n",
       "      <td>Ziyapod 100mg Oral Suspension</td>\n",
       "      <td>62.30</td>\n",
       "      <td>bottle of 30 ml Oral Suspension</td>\n",
       "      <td>Cefpodoxime Proxetil (100mg)</td>\n",
       "    </tr>\n",
       "    <tr>\n",
       "      <th>253969</th>\n",
       "      <td>Zemhart 30mg Tablet</td>\n",
       "      <td>54.00</td>\n",
       "      <td>strip of 10 tablets</td>\n",
       "      <td>Diltiazem (30mg)</td>\n",
       "    </tr>\n",
       "    <tr>\n",
       "      <th>253970</th>\n",
       "      <td>Zivex 25mg Tablet</td>\n",
       "      <td>57.00</td>\n",
       "      <td>strip of 10 tablets</td>\n",
       "      <td>Hydroxyzine (25mg)</td>\n",
       "    </tr>\n",
       "    <tr>\n",
       "      <th>253971</th>\n",
       "      <td>ZI Fast 500mg Injection</td>\n",
       "      <td>152.00</td>\n",
       "      <td>vial of 1 Injection</td>\n",
       "      <td>Azithromycin (500mg)</td>\n",
       "    </tr>\n",
       "    <tr>\n",
       "      <th>253972</th>\n",
       "      <td>Zyvocol 1% Dusting Powder</td>\n",
       "      <td>110.00</td>\n",
       "      <td>bottle of 75 gm Dusting Powder</td>\n",
       "      <td>Clotrimazole (1% w/w)</td>\n",
       "    </tr>\n",
       "  </tbody>\n",
       "</table>\n",
       "<p>253973 rows × 4 columns</p>\n",
       "</div>"
      ],
      "text/plain": [
       "                                 name   price  \\\n",
       "0            Augmentin 625 Duo Tablet  223.42   \n",
       "1                 Azithral 500 Tablet  132.36   \n",
       "2                    Ascoril LS Syrup  118.00   \n",
       "3                Allegra 120mg Tablet  218.81   \n",
       "4                      Avil 25 Tablet   10.96   \n",
       "...                               ...     ...   \n",
       "253968  Ziyapod 100mg Oral Suspension   62.30   \n",
       "253969            Zemhart 30mg Tablet   54.00   \n",
       "253970              Zivex 25mg Tablet   57.00   \n",
       "253971        ZI Fast 500mg Injection  152.00   \n",
       "253972      Zyvocol 1% Dusting Powder  110.00   \n",
       "\n",
       "                        pack_size_label            short_composition1  \n",
       "0                   strip of 10 tablets         Amoxycillin  (500mg)   \n",
       "1                    strip of 5 tablets          Azithromycin (500mg)  \n",
       "2                bottle of 100 ml Syrup          Ambroxol (30mg/5ml)   \n",
       "3                   strip of 10 tablets          Fexofenadine (120mg)  \n",
       "4                   strip of 15 tablets            Pheniramine (25mg)  \n",
       "...                                 ...                           ...  \n",
       "253968  bottle of 30 ml Oral Suspension  Cefpodoxime Proxetil (100mg)  \n",
       "253969              strip of 10 tablets              Diltiazem (30mg)  \n",
       "253970              strip of 10 tablets            Hydroxyzine (25mg)  \n",
       "253971              vial of 1 Injection          Azithromycin (500mg)  \n",
       "253972   bottle of 75 gm Dusting Powder         Clotrimazole (1% w/w)  \n",
       "\n",
       "[253973 rows x 4 columns]"
      ]
     },
     "execution_count": 2,
     "metadata": {},
     "output_type": "execute_result"
    }
   ],
   "source": [
    "drugs = pd.read_csv('all-drugs.csv')\n",
    "# drugs = drugs.iloc[0:253973, :]\n",
    "drugs = drugs.iloc[0:5000, :]\n",
    "drugs = drugs.loc[:, ['name', 'price', 'pack_size_label', 'short_composition1']]\n",
    "drugs"
   ]
  },
  {
   "cell_type": "code",
   "execution_count": 3,
   "id": "1f0fed58",
   "metadata": {},
   "outputs": [
    {
     "data": {
      "text/plain": [
       "0              0\n",
       "1              1\n",
       "2              2\n",
       "3              3\n",
       "4              4\n",
       "           ...  \n",
       "253968    253968\n",
       "253969    253969\n",
       "253970    253970\n",
       "253971    253971\n",
       "253972    253972\n",
       "Name: id, Length: 253973, dtype: int32"
      ]
     },
     "execution_count": 3,
     "metadata": {},
     "output_type": "execute_result"
    }
   ],
   "source": [
    "drugs['id'] = np.arange(0, drugs.shape[0])\n",
    "drugs.id"
   ]
  },
  {
   "cell_type": "code",
   "execution_count": 4,
   "id": "4d5e69c3",
   "metadata": {},
   "outputs": [
    {
     "data": {
      "text/plain": [
       "0         188\n",
       "1         351\n",
       "2         139\n",
       "3         193\n",
       "4         254\n",
       "         ... \n",
       "253968    142\n",
       "253969      5\n",
       "253970    339\n",
       "253971    123\n",
       "253972     90\n",
       "Name: mfr_id, Length: 253973, dtype: int32"
      ]
     },
     "execution_count": 4,
     "metadata": {},
     "output_type": "execute_result"
    }
   ],
   "source": [
    "drugs['mfr_id'] = np.random.randint(0, 362, 253973)\n",
    "drugs.mfr_id"
   ]
  },
  {
   "cell_type": "code",
   "execution_count": 5,
   "id": "5c60f56a",
   "metadata": {},
   "outputs": [
    {
     "data": {
      "text/plain": [
       "0         17\n",
       "1          9\n",
       "2          6\n",
       "3         25\n",
       "4         20\n",
       "          ..\n",
       "253968    18\n",
       "253969     4\n",
       "253970    17\n",
       "253971     2\n",
       "253972    13\n",
       "Name: qty_in_stock, Length: 253973, dtype: int32"
      ]
     },
     "execution_count": 5,
     "metadata": {},
     "output_type": "execute_result"
    }
   ],
   "source": [
    "drugs['qty_in_stock'] = np.random.randint(0, 30, 253973)\n",
    "drugs.qty_in_stock"
   ]
  },
  {
   "cell_type": "code",
   "execution_count": 6,
   "id": "384f7a9b",
   "metadata": {},
   "outputs": [
    {
     "data": {
      "text/plain": [
       "0         6384\n",
       "1         4693\n",
       "2         6398\n",
       "3         7114\n",
       "4         6222\n",
       "          ... \n",
       "253968    8704\n",
       "253969    4940\n",
       "253970    9357\n",
       "253971    3759\n",
       "253972    6399\n",
       "Name: batch_no, Length: 253973, dtype: int32"
      ]
     },
     "execution_count": 6,
     "metadata": {},
     "output_type": "execute_result"
    }
   ],
   "source": [
    "drugs['batch_no'] = np.random.randint(1000, 9999, 253973)\n",
    "drugs.batch_no"
   ]
  },
  {
   "cell_type": "code",
   "execution_count": 7,
   "id": "b46a165b",
   "metadata": {},
   "outputs": [
    {
     "data": {
      "text/plain": [
       "batch_no\n",
       "1000     24000\n",
       "1001     17017\n",
       "1002     30060\n",
       "1003     26078\n",
       "1004     21084\n",
       "         ...  \n",
       "9994    229862\n",
       "9995    239880\n",
       "9996    329868\n",
       "9997    249925\n",
       "9998    199960\n",
       "Name: batch_no, Length: 8999, dtype: int32"
      ]
     },
     "execution_count": 7,
     "metadata": {},
     "output_type": "execute_result"
    }
   ],
   "source": [
    "drugs.groupby('batch_no').batch_no.sum()"
   ]
  },
  {
   "cell_type": "code",
   "execution_count": 11,
   "id": "b14e987e",
   "metadata": {},
   "outputs": [
    {
     "data": {
      "text/html": [
       "<div>\n",
       "<style scoped>\n",
       "    .dataframe tbody tr th:only-of-type {\n",
       "        vertical-align: middle;\n",
       "    }\n",
       "\n",
       "    .dataframe tbody tr th {\n",
       "        vertical-align: top;\n",
       "    }\n",
       "\n",
       "    .dataframe thead th {\n",
       "        text-align: right;\n",
       "    }\n",
       "</style>\n",
       "<table border=\"1\" class=\"dataframe\">\n",
       "  <thead>\n",
       "    <tr style=\"text-align: right;\">\n",
       "      <th></th>\n",
       "      <th>name</th>\n",
       "      <th>price</th>\n",
       "      <th>pack_size_label</th>\n",
       "      <th>short_composition1</th>\n",
       "      <th>id</th>\n",
       "      <th>mfr_id</th>\n",
       "      <th>qty_in_stock</th>\n",
       "      <th>batch_no</th>\n",
       "    </tr>\n",
       "  </thead>\n",
       "  <tbody>\n",
       "    <tr>\n",
       "      <th>0</th>\n",
       "      <td>Augmentin 625 Duo Tablet</td>\n",
       "      <td>223.42</td>\n",
       "      <td>strip of 10 tablets</td>\n",
       "      <td>Amoxycillin  (500mg)</td>\n",
       "      <td>0</td>\n",
       "      <td>188</td>\n",
       "      <td>17</td>\n",
       "      <td>6384</td>\n",
       "    </tr>\n",
       "    <tr>\n",
       "      <th>1</th>\n",
       "      <td>Azithral 500 Tablet</td>\n",
       "      <td>132.36</td>\n",
       "      <td>strip of 5 tablets</td>\n",
       "      <td>Azithromycin (500mg)</td>\n",
       "      <td>1</td>\n",
       "      <td>351</td>\n",
       "      <td>9</td>\n",
       "      <td>4693</td>\n",
       "    </tr>\n",
       "    <tr>\n",
       "      <th>2</th>\n",
       "      <td>Ascoril LS Syrup</td>\n",
       "      <td>118.00</td>\n",
       "      <td>bottle of 100 ml Syrup</td>\n",
       "      <td>Ambroxol (30mg/5ml)</td>\n",
       "      <td>2</td>\n",
       "      <td>139</td>\n",
       "      <td>6</td>\n",
       "      <td>6398</td>\n",
       "    </tr>\n",
       "    <tr>\n",
       "      <th>3</th>\n",
       "      <td>Allegra 120mg Tablet</td>\n",
       "      <td>218.81</td>\n",
       "      <td>strip of 10 tablets</td>\n",
       "      <td>Fexofenadine (120mg)</td>\n",
       "      <td>3</td>\n",
       "      <td>193</td>\n",
       "      <td>25</td>\n",
       "      <td>7114</td>\n",
       "    </tr>\n",
       "    <tr>\n",
       "      <th>4</th>\n",
       "      <td>Avil 25 Tablet</td>\n",
       "      <td>10.96</td>\n",
       "      <td>strip of 15 tablets</td>\n",
       "      <td>Pheniramine (25mg)</td>\n",
       "      <td>4</td>\n",
       "      <td>254</td>\n",
       "      <td>20</td>\n",
       "      <td>6222</td>\n",
       "    </tr>\n",
       "  </tbody>\n",
       "</table>\n",
       "</div>"
      ],
      "text/plain": [
       "                       name   price         pack_size_label  \\\n",
       "0  Augmentin 625 Duo Tablet  223.42     strip of 10 tablets   \n",
       "1       Azithral 500 Tablet  132.36      strip of 5 tablets   \n",
       "2          Ascoril LS Syrup  118.00  bottle of 100 ml Syrup   \n",
       "3      Allegra 120mg Tablet  218.81     strip of 10 tablets   \n",
       "4            Avil 25 Tablet   10.96     strip of 15 tablets   \n",
       "\n",
       "      short_composition1  id  mfr_id  qty_in_stock  batch_no  \n",
       "0  Amoxycillin  (500mg)    0     188            17      6384  \n",
       "1   Azithromycin (500mg)   1     351             9      4693  \n",
       "2   Ambroxol (30mg/5ml)    2     139             6      6398  \n",
       "3   Fexofenadine (120mg)   3     193            25      7114  \n",
       "4     Pheniramine (25mg)   4     254            20      6222  "
      ]
     },
     "execution_count": 11,
     "metadata": {},
     "output_type": "execute_result"
    }
   ],
   "source": [
    "drugs.head()"
   ]
  },
  {
   "cell_type": "code",
   "execution_count": 8,
   "id": "5e458325",
   "metadata": {},
   "outputs": [],
   "source": [
    "# for a group of batches per mfr_id, set a particular expiry date\n",
    "# do the same with mfg_date\n"
   ]
  },
  {
   "cell_type": "code",
   "execution_count": 18,
   "id": "f4f349f5",
   "metadata": {},
   "outputs": [
    {
     "data": {
      "text/plain": [
       "mfr_id  batch_no\n",
       "0       1010        1\n",
       "        1013        1\n",
       "        1019        1\n",
       "        1041        1\n",
       "        1042        1\n",
       "                   ..\n",
       "361     9924        1\n",
       "        9927        1\n",
       "        9937        2\n",
       "        9970        1\n",
       "        9972        1\n",
       "Name: name, Length: 244406, dtype: int64"
      ]
     },
     "execution_count": 18,
     "metadata": {},
     "output_type": "execute_result"
    }
   ],
   "source": [
    "drugs.groupby(['mfr_id', 'batch_no']).name.count()"
   ]
  },
  {
   "cell_type": "code",
   "execution_count": 25,
   "id": "5ee20020",
   "metadata": {},
   "outputs": [
    {
     "data": {
      "text/plain": [
       "datetime.date(2023, 10, 21)"
      ]
     },
     "execution_count": 25,
     "metadata": {},
     "output_type": "execute_result"
    }
   ],
   "source": [
    "datetime.date.today()"
   ]
  },
  {
   "cell_type": "code",
   "execution_count": 79,
   "id": "c9b0b7d5",
   "metadata": {},
   "outputs": [],
   "source": [
    "def getRandomDates():\n",
    "    start_date = pd.to_datetime(\"01.01.2022\", dayfirst=True).value//10**9\n",
    "    end_date = pd.to_datetime(\"31.12.2025\", dayfirst=True).value//10**9\n",
    "    dateArr = pd.to_datetime(np.random.randint(start_date, end_date, drugs.shape[0]), unit='s')\n",
    "    return pd.to_datetime(dateArr.date)"
   ]
  },
  {
   "cell_type": "code",
   "execution_count": 86,
   "id": "3b1413dd",
   "metadata": {},
   "outputs": [],
   "source": [
    "# # Group the DataFrame by manufacturer_id and batch_no and assign random dates\n",
    "# drugs['exp_date'] = drugs.groupby(['mfr_id', 'batch_no'])['mfr_id'].transform(\n",
    "#     lambda x: getRandomDates()\n",
    "# )\n",
    "# drugs"
   ]
  },
  {
   "cell_type": "code",
   "execution_count": 88,
   "id": "aae09939",
   "metadata": {},
   "outputs": [
    {
     "data": {
      "text/html": [
       "<div>\n",
       "<style scoped>\n",
       "    .dataframe tbody tr th:only-of-type {\n",
       "        vertical-align: middle;\n",
       "    }\n",
       "\n",
       "    .dataframe tbody tr th {\n",
       "        vertical-align: top;\n",
       "    }\n",
       "\n",
       "    .dataframe thead th {\n",
       "        text-align: right;\n",
       "    }\n",
       "</style>\n",
       "<table border=\"1\" class=\"dataframe\">\n",
       "  <thead>\n",
       "    <tr style=\"text-align: right;\">\n",
       "      <th></th>\n",
       "      <th>name</th>\n",
       "      <th>price</th>\n",
       "      <th>pack_size_label</th>\n",
       "      <th>short_composition1</th>\n",
       "      <th>id</th>\n",
       "      <th>mfr_id</th>\n",
       "      <th>qty_in_stock</th>\n",
       "      <th>batch_no</th>\n",
       "      <th>exp_date</th>\n",
       "      <th>mfg_date</th>\n",
       "    </tr>\n",
       "  </thead>\n",
       "  <tbody>\n",
       "    <tr>\n",
       "      <th>0</th>\n",
       "      <td>Augmentin 625 Duo Tablet</td>\n",
       "      <td>223.42</td>\n",
       "      <td>strip of 10 tablets</td>\n",
       "      <td>Amoxycillin  (500mg)</td>\n",
       "      <td>0</td>\n",
       "      <td>188</td>\n",
       "      <td>17</td>\n",
       "      <td>6384</td>\n",
       "      <td>2024-12-07</td>\n",
       "      <td>2025-03-18</td>\n",
       "    </tr>\n",
       "    <tr>\n",
       "      <th>1</th>\n",
       "      <td>Azithral 500 Tablet</td>\n",
       "      <td>132.36</td>\n",
       "      <td>strip of 5 tablets</td>\n",
       "      <td>Azithromycin (500mg)</td>\n",
       "      <td>1</td>\n",
       "      <td>351</td>\n",
       "      <td>9</td>\n",
       "      <td>4693</td>\n",
       "      <td>2023-01-28</td>\n",
       "      <td>2023-10-12</td>\n",
       "    </tr>\n",
       "    <tr>\n",
       "      <th>2</th>\n",
       "      <td>Ascoril LS Syrup</td>\n",
       "      <td>118.00</td>\n",
       "      <td>bottle of 100 ml Syrup</td>\n",
       "      <td>Ambroxol (30mg/5ml)</td>\n",
       "      <td>2</td>\n",
       "      <td>139</td>\n",
       "      <td>6</td>\n",
       "      <td>6398</td>\n",
       "      <td>2022-09-19</td>\n",
       "      <td>2022-10-02</td>\n",
       "    </tr>\n",
       "    <tr>\n",
       "      <th>3</th>\n",
       "      <td>Allegra 120mg Tablet</td>\n",
       "      <td>218.81</td>\n",
       "      <td>strip of 10 tablets</td>\n",
       "      <td>Fexofenadine (120mg)</td>\n",
       "      <td>3</td>\n",
       "      <td>193</td>\n",
       "      <td>25</td>\n",
       "      <td>7114</td>\n",
       "      <td>2025-06-11</td>\n",
       "      <td>2025-08-05</td>\n",
       "    </tr>\n",
       "    <tr>\n",
       "      <th>4</th>\n",
       "      <td>Avil 25 Tablet</td>\n",
       "      <td>10.96</td>\n",
       "      <td>strip of 15 tablets</td>\n",
       "      <td>Pheniramine (25mg)</td>\n",
       "      <td>4</td>\n",
       "      <td>254</td>\n",
       "      <td>20</td>\n",
       "      <td>6222</td>\n",
       "      <td>2025-05-05</td>\n",
       "      <td>2025-09-15</td>\n",
       "    </tr>\n",
       "  </tbody>\n",
       "</table>\n",
       "</div>"
      ],
      "text/plain": [
       "                       name   price         pack_size_label  \\\n",
       "0  Augmentin 625 Duo Tablet  223.42     strip of 10 tablets   \n",
       "1       Azithral 500 Tablet  132.36      strip of 5 tablets   \n",
       "2          Ascoril LS Syrup  118.00  bottle of 100 ml Syrup   \n",
       "3      Allegra 120mg Tablet  218.81     strip of 10 tablets   \n",
       "4            Avil 25 Tablet   10.96     strip of 15 tablets   \n",
       "\n",
       "      short_composition1  id  mfr_id  qty_in_stock  batch_no   exp_date  \\\n",
       "0  Amoxycillin  (500mg)    0     188            17      6384 2024-12-07   \n",
       "1   Azithromycin (500mg)   1     351             9      4693 2023-01-28   \n",
       "2   Ambroxol (30mg/5ml)    2     139             6      6398 2022-09-19   \n",
       "3   Fexofenadine (120mg)   3     193            25      7114 2025-06-11   \n",
       "4     Pheniramine (25mg)   4     254            20      6222 2025-05-05   \n",
       "\n",
       "    mfg_date  \n",
       "0 2025-03-18  \n",
       "1 2023-10-12  \n",
       "2 2022-10-02  \n",
       "3 2025-08-05  \n",
       "4 2025-09-15  "
      ]
     },
     "execution_count": 88,
     "metadata": {},
     "output_type": "execute_result"
    }
   ],
   "source": [
    "drugs['exp_date'] = getRandomDates()\n",
    "drugs['mfg_date'] = getRandomDates()\n",
    "drugs.head()"
   ]
  },
  {
   "cell_type": "code",
   "execution_count": 89,
   "id": "f557c8c6",
   "metadata": {},
   "outputs": [],
   "source": [
    "# drugs.to_csv('drugs-inventory-products_medicines-data.csv')"
   ]
  }
 ],
 "metadata": {
  "kernelspec": {
   "display_name": "tf_env",
   "language": "python",
   "name": "tf_env"
  },
  "language_info": {
   "codemirror_mode": {
    "name": "ipython",
    "version": 3
   },
   "file_extension": ".py",
   "mimetype": "text/x-python",
   "name": "python",
   "nbconvert_exporter": "python",
   "pygments_lexer": "ipython3",
   "version": "3.10.11"
  }
 },
 "nbformat": 4,
 "nbformat_minor": 5
}
